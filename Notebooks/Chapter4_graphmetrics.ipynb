{
 "cells": [
  {
   "cell_type": "markdown",
   "id": "7b924d26-0e76-4cc4-b38a-401979cb5038",
   "metadata": {},
   "source": [
    "# Network Analysis Overview\n",
    "\n",
    "This code base provides a robust framework for analyzing graph data stored in GraphML format. It offers a suite of tools to calculate fundamental metrics and uncover structural insights of the network. Here are the key features and metrics it computes:\n",
    "\n",
    "- **Community Detection**:\n",
    "  - Leverages algorithms like Leiden or Louvain to identify communities within the graph. This helps in understanding the modular structure and the clusters of nodes that are more densely connected internally.\n",
    "\n",
    "- **Graph Diameter and Radius**:\n",
    "  - Calculates the longest shortest path between any two nodes (diameter) and the minimum eccentricity (radius). These metrics help identify the 'spread' of the network and the central points, respectively.\n",
    "\n",
    "- **Centrality Measures**:\n",
    "  - Includes degree, closeness, betweenness, and eigenvector centrality. Each metric highlights different aspects of node importance and influence in the network.\n",
    "\n",
    "- **Articulation Points and Bridges**:\n",
    "  - Identifies critical nodes and edges whose removal would fragment the network into disconnected components. This is vital for assessing network resilience and vulnerability.\n",
    "\n",
    "- **Strongly and Weakly Connected Components**:\n",
    "  - Analyzes the connectivity and reachability within directed graphs, helping to reveal the underlying structure and flow paths in the network.\n",
    "\n",
    "- **Network Transitivity (Clustering Coefficient)**:\n",
    "  - Measures the degree to which nodes in a graph tend to cluster together, which is useful for understanding the local node connectivity and potential for network segmentation.\n",
    "\n",
    "- **Graph Periphery and Center**:\n",
    "  - Identifies the nodes on the outermost layers (periphery) and the most central nodes (center) of the graph, providing insights into the layout and core structure of the network.\n",
    "\n",
    "- **Path Length and Eccentricity**:\n",
    "  - Provides measures of the shortest paths and maximum distances within the graph, offering insights into the efficiency of connectivity and the reach of individual nodes.\n",
    "\n",
    "- **Spectral Analysis**:\n",
    "  - Uses eigenvalues and eigenvectors of the adjacency matrix for deeper insights into graph properties and for methods like spectral clustering.\n",
    "\n"
   ]
  },
  {
   "cell_type": "code",
   "execution_count": 30,
   "id": "e938061b-cd83-440c-8b06-fa83e403a11a",
   "metadata": {},
   "outputs": [],
   "source": [
    "import igraph as ig\n",
    "import leidenalg as la\n",
    "import numpy as np\n",
    "import pandas as pd\n",
    "import collections\n",
    "from collections import Counter"
   ]
  },
  {
   "cell_type": "code",
   "execution_count": 6,
   "id": "49ef9f1c-5198-4aea-937c-9262291ed8c8",
   "metadata": {},
   "outputs": [],
   "source": [
    "g = ig.Graph.Read_GraphML(\"graphall.graphml\")"
   ]
  },
  {
   "cell_type": "code",
   "execution_count": 8,
   "id": "aafe190c-5203-48b6-95e9-2ae028e736fd",
   "metadata": {},
   "outputs": [
    {
     "name": "stdout",
     "output_type": "stream",
     "text": [
      "Number of vertices: 13029\n",
      "Number of edges: 50340\n"
     ]
    }
   ],
   "source": [
    "print(f\"Number of vertices: {g.vcount()}\")\n",
    "print(f\"Number of edges: {g.ecount()}\")\n"
   ]
  },
  {
   "cell_type": "code",
   "execution_count": 10,
   "id": "ee773312-1ee2-4916-a862-70f5e6a91d83",
   "metadata": {},
   "outputs": [
    {
     "name": "stdout",
     "output_type": "stream",
     "text": [
      "Vertex attributes: ['name', 'alias', 'Total_Channels', 'log_chnlcnt', 'Total_Capacity', 'Formatted_Total_Capacity', 'Capacity_Rank', 'Channel_Count_Rank', 'Capacity_Percentile', 'pub_key', 'community', 'id']\n",
      "Attributes for the first two nodes:\n",
      "Node 0 attributes:\n",
      "  name: 3733632067\n",
      "  alias: heliacal\n",
      "  Total_Channels: 1.0\n",
      "  log_chnlcnt: 0.693147180559945\n",
      "  Total_Capacity: 6789.0\n",
      "  Formatted_Total_Capacity: 7k sats\n",
      "  Capacity_Rank: 13026.0\n",
      "  Channel_Count_Rank: 13030.0\n",
      "  Capacity_Percentile: Bottom 60%\n",
      "  pub_key: 027ccec61f4bf1fafb5156931da6527dc104ec3613dd4f4050161d89dd76ab494c\n",
      "  community: 0.0\n",
      "  id: n0\n",
      "\n"
     ]
    }
   ],
   "source": [
    "print(\"Vertex attributes:\", g.vertex_attributes())\n",
    "\n",
    "print(\"Attributes for the first two nodes:\")\n",
    "for v in g.vs[:1]:  # Adjust slice for more or fewer nodes\n",
    "    print(f\"Node {v.index} attributes:\")\n",
    "    for attribute in g.vertex_attributes():\n",
    "        print(f\"  {attribute}: {v[attribute]}\")\n",
    "    print()  # Adds a newline for better readability"
   ]
  },
  {
   "cell_type": "code",
   "execution_count": 2,
   "id": "c317f2fe-5de3-407b-9369-2d92661b32ec",
   "metadata": {},
   "outputs": [
    {
     "ename": "NameError",
     "evalue": "name 'g' is not defined",
     "output_type": "error",
     "traceback": [
      "\u001b[0;31m---------------------------------------------------------------------------\u001b[0m",
      "\u001b[0;31mNameError\u001b[0m                                 Traceback (most recent call last)",
      "Cell \u001b[0;32mIn[2], line 2\u001b[0m\n\u001b[1;32m      1\u001b[0m \u001b[38;5;66;03m# Assuming 'g' is your igraph Graph object and 'community' is the attribute name\u001b[39;00m\n\u001b[0;32m----> 2\u001b[0m community_membership \u001b[38;5;241m=\u001b[39m g\u001b[38;5;241m.\u001b[39mvs[\u001b[38;5;124m'\u001b[39m\u001b[38;5;124mcommunity\u001b[39m\u001b[38;5;124m'\u001b[39m]  \u001b[38;5;66;03m# This retrieves the community attribute for all vertices\u001b[39;00m\n\u001b[1;32m      3\u001b[0m community_counts \u001b[38;5;241m=\u001b[39m Counter(community_membership)\n",
      "\u001b[0;31mNameError\u001b[0m: name 'g' is not defined"
     ]
    }
   ],
   "source": [
    "\n",
    "\n",
    "# Assuming 'g' is your igraph Graph object and 'community' is the attribute name\n",
    "community_membership = g.vs['community']  # This retrieves the community attribute for all vertices\n",
    "community_counts = Counter(community_membership)  # Counts the frequency of each community\n",
    "\n",
    "# Printing the community counts\n",
    "# for community, count in community_counts.items():\n",
    "#     print(f\"Community {community}: {count} nodes\")\n"
   ]
  },
  {
   "cell_type": "code",
   "execution_count": 34,
   "id": "e2091914-57ac-4456-956b-1de3b2e45b5c",
   "metadata": {},
   "outputs": [],
   "source": [
    "def community_detection(graph):\n",
    "    \"\"\"\n",
    "    Detect communities within the graph using the Leiden algorithm from leidenalg library.\n",
    "    \n",
    "    Args:\n",
    "    - graph (ig.Graph): An igraph graph object.\n",
    "    \n",
    "    Returns:\n",
    "    - list: List of community memberships for each vertex in the graph.\n",
    "    \"\"\"\n",
    "    # Find the partition of the graph using the ModularityVertexPartition which aims to maximize modularity\n",
    "    partition = la.find_partition(graph, la.ModularityVertexPartition)\n",
    "    \n",
    "    # The membership attribute gives us the community index for each vertex\n",
    "    return partition.membership\n",
    "\n",
    "def graph_properties(g):\n",
    "    \"\"\"\n",
    "    Compute fundamental graph properties such as diameter, radius, and connectivity components.\n",
    "    \n",
    "    Args:\n",
    "    - g (ig.Graph): Graph object.\n",
    "    \n",
    "    Returns:\n",
    "    - dict: Fundamental graph properties.\n",
    "    \"\"\"\n",
    "    return {\n",
    "        \"diameter\": g.diameter(),\n",
    "        \"radius\": g.radius(),\n",
    "        \"components\": len(g.components(mode='WEAK')),\n",
    "        \"strong_components\": len(g.components(mode='STRONG'))\n",
    "    }\n",
    "\n",
    "def centrality_measures(g):\n",
    "    \"\"\"\n",
    "    Calculate various centrality measures for the graph.\n",
    "    \n",
    "    Args:\n",
    "    - g (ig.Graph): Graph object.\n",
    "    \n",
    "    Returns:\n",
    "    - dict: Centrality measures.\n",
    "    \"\"\"\n",
    "    return {\n",
    "        \"degree\": g.degree(),\n",
    "        \"betweenness\": g.betweenness(),\n",
    "        \"closeness\": g.closeness(),\n",
    "        \"eigenvector\": g.eigenvector_centrality()\n",
    "    }\n",
    "\n",
    "def critical_points(g):\n",
    "    \"\"\"\n",
    "    Identify articulation points and bridges in the graph.\n",
    "    \n",
    "    Args:\n",
    "    - g (ig.Graph): Graph object.\n",
    "    \n",
    "    Returns:\n",
    "    - dict: Articulation points and bridges.\n",
    "    \"\"\"\n",
    "    return {\n",
    "        \"articulation_points\": g.articulation_points(),\n",
    "        \"bridges\": g.bridges()\n",
    "    }\n",
    "\n",
    "def clustering_coefficient(g):\n",
    "    \"\"\"\n",
    "    Calculate the transitivity (global clustering coefficient) of the graph.\n",
    "    \n",
    "    Args:\n",
    "    - g (ig.Graph): Graph object.\n",
    "    \n",
    "    Returns:\n",
    "    - float: Transitivity value.\n",
    "    \"\"\"\n",
    "    return g.transitivity_undirected()\n",
    "\n",
    "def spectral_analysis(g):\n",
    "    \"\"\"\n",
    "    Perform spectral analysis on the graph.\n",
    "    \n",
    "    Args:\n",
    "    - g (ig.Graph): Graph object.\n",
    "    \n",
    "    Returns:\n",
    "    - dict: Eigenvalues and eigenvectors.\n",
    "    \"\"\"\n",
    "    return {\n",
    "        \"eigenvalues\": g.eigenvalues(),\n",
    "        \"adjacency_matrix\": g.get_adjacency().data\n",
    "    }"
   ]
  },
  {
   "cell_type": "code",
   "execution_count": 44,
   "id": "de9471c5-c1aa-4b66-9e07-beb2d253c4de",
   "metadata": {},
   "outputs": [
    {
     "name": "stdout",
     "output_type": "stream",
     "text": [
      "Detected 13029 communities.\n",
      "Detected 88 communities.\n"
     ]
    }
   ],
   "source": [
    "\n",
    "# Perform community detection and print the number of communities\n",
    "communities = community_detection(g)\n",
    "print(f\"Detected {len(communities)} communities.\")\n",
    "\n",
    "unique_communities = set(communities)\n",
    "\n",
    "# Print the number of unique communities detected\n",
    "print(f\"Detected {len(unique_communities)} communities.\")\n",
    "\n",
    "community_counts = collections.Counter(communities)\n",
    "\n",
    "# # Printing the number of nodes in each community\n",
    "# for community_id, count in community_counts.items():\n",
    "#     print(f\"Community {community_id}: {count} nodes\")\n"
   ]
  },
  {
   "cell_type": "code",
   "execution_count": 46,
   "id": "c4d4b028-83e3-444f-a80d-60c0eaefd26b",
   "metadata": {},
   "outputs": [
    {
     "name": "stdout",
     "output_type": "stream",
     "text": [
      "Diameter: 9, Radius: 1, Components: 61\n"
     ]
    }
   ],
   "source": [
    "# Calculate graph properties\n",
    "properties = graph_properties(g)\n",
    "print(f\"Diameter: {properties['diameter']}, Radius: {properties['radius']}, Components: {properties['components']}\")"
   ]
  },
  {
   "cell_type": "code",
   "execution_count": null,
   "id": "ed3fe66b-9ac5-4d90-8401-9f31a8f3a464",
   "metadata": {},
   "outputs": [],
   "source": [
    "# Calculate centrality measures and print\n",
    "centrality = centrality_measures(g)\n",
    "print(\"Centrality measures calculated:\", centrality)\n",
    "\n"
   ]
  },
  {
   "cell_type": "code",
   "execution_count": 12,
   "id": "23d97e53-bd6b-4ca8-8c6c-e3a57eff20d5",
   "metadata": {},
   "outputs": [
    {
     "name": "stdout",
     "output_type": "stream",
     "text": [
      "Articulation Points: 1056, Bridges: 6299\n"
     ]
    }
   ],
   "source": [
    "# Identify critical points\n",
    "critical = critical_points(g)\n",
    "print(f\"Articulation Points: {len(critical['articulation_points'])}, Bridges: {len(critical['bridges'])}\")\n",
    "\n"
   ]
  },
  {
   "cell_type": "code",
   "execution_count": null,
   "id": "be36f485-943e-4261-b271-ccef31c83a47",
   "metadata": {},
   "outputs": [],
   "source": [
    "# Calculate transitivity\n",
    "transitivity = clustering_coefficient(g)\n",
    "print(f\"Transitivity: {transitivity}\")\n",
    "\n"
   ]
  },
  {
   "cell_type": "code",
   "execution_count": null,
   "id": "d834b2cf-207d-4060-97a7-4e63b1666f35",
   "metadata": {},
   "outputs": [],
   "source": [
    "# Optionally perform spectral analysis if needed\n",
    "# spectral = spectral_analysis(g)\n",
    "# print(\"Spectral analysis results:\", spectral)"
   ]
  }
 ],
 "metadata": {
  "kernelspec": {
   "display_name": "Python 3 (ipykernel)",
   "language": "python",
   "name": "python3"
  },
  "language_info": {
   "codemirror_mode": {
    "name": "ipython",
    "version": 3
   },
   "file_extension": ".py",
   "mimetype": "text/x-python",
   "name": "python",
   "nbconvert_exporter": "python",
   "pygments_lexer": "ipython3",
   "version": "3.11.5"
  }
 },
 "nbformat": 4,
 "nbformat_minor": 5
}
